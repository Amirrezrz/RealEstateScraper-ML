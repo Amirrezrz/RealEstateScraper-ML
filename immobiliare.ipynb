{
 "cells": [
  {
   "cell_type": "code",
   "execution_count": 128,
   "id": "573b567a-babb-4cf4-9b16-bcee63b8ad25",
   "metadata": {
    "scrolled": true
   },
   "outputs": [
    {
     "name": "stdin",
     "output_type": "stream",
     "text": [
      "The city that you want to exctract data(in Italian):  milano\n",
      "how many pages would you want to exctract:  5\n"
     ]
    },
    {
     "name": "stdout",
     "output_type": "stream",
     "text": [
      "reciving data: https://www.immobiliare.it/vendita-case/milano/\n"
     ]
    },
    {
     "name": "stdin",
     "output_type": "stream",
     "text": [
      "please skip captcha \n"
     ]
    },
    {
     "name": "stdout",
     "output_type": "stream",
     "text": [
      "reciving data: https://www.immobiliare.it/vendita-case/milano/?pag=2\n"
     ]
    },
    {
     "name": "stdin",
     "output_type": "stream",
     "text": [
      "please skip captcha \n"
     ]
    },
    {
     "name": "stdout",
     "output_type": "stream",
     "text": [
      "reciving data: https://www.immobiliare.it/vendita-case/milano/?pag=3\n"
     ]
    },
    {
     "name": "stdin",
     "output_type": "stream",
     "text": [
      "please skip captcha \n"
     ]
    },
    {
     "name": "stdout",
     "output_type": "stream",
     "text": [
      "reciving data: https://www.immobiliare.it/vendita-case/milano/?pag=4\n"
     ]
    },
    {
     "name": "stdin",
     "output_type": "stream",
     "text": [
      "please skip captcha \n"
     ]
    },
    {
     "name": "stdout",
     "output_type": "stream",
     "text": [
      "reciving data: https://www.immobiliare.it/vendita-case/milano/?pag=5\n"
     ]
    },
    {
     "name": "stdin",
     "output_type": "stream",
     "text": [
      "please skip captcha \n"
     ]
    },
    {
     "name": "stdout",
     "output_type": "stream",
     "text": [
      "✅ all the pages saved in a file\n"
     ]
    }
   ],
   "source": [
    "from selenium import webdriver\n",
    "from selenium.webdriver.chrome.service import Service\n",
    "from selenium.webdriver.chrome.options import Options\n",
    "from webdriver_manager.chrome import ChromeDriverManager\n",
    "import time\n",
    "\n",
    "#data from user\n",
    "city = input(\"The city that you want to exctract data(in Italian): \").strip()\n",
    "num_pages = int(input(\"how many pages would you want to exctract: \"))\n",
    "\n",
    "# browser setting\n",
    "options = Options()\n",
    "options.add_experimental_option(\"detach\", True)  #it keeps browser open to skip the captcha\n",
    "options.add_argument(\"--disable-blink-features=AutomationControlled\")\n",
    "\n",
    "# run driver\n",
    "driver = webdriver.Chrome(service=Service(ChromeDriverManager().install()), options=options)\n",
    "\n",
    "# save all the data in a file\n",
    "with open(\"all_pages.html\", \"w\", encoding=\"utf-8\") as file:\n",
    "    for page in range(1, num_pages + 1):\n",
    "        if page == 1:\n",
    "            url = f\"https://www.immobiliare.it/vendita-case/{city}/\"\n",
    "        else:\n",
    "            url = f\"https://www.immobiliare.it/vendita-case/{city}/?pag={page}\"\n",
    "        \n",
    "        print(f\"reciving data: {url}\")\n",
    "        \n",
    "        driver.get(url)\n",
    "        input(\"please skip captcha then press enter\")  #waiting for captcha\n",
    "\n",
    "        file.write(f\"<!-- Page {page} -->\\n\")\n",
    "        file.write(driver.page_source)\n",
    "        file.write(\"\\n\\n\")\n",
    "    \n",
    "print(\"✅ all the pages saved in a file\")\n",
    "driver.quit()\n"
   ]
  },
  {
   "cell_type": "code",
   "execution_count": 130,
   "id": "124164d7-90a5-4ac9-8a61-12065b06fe05",
   "metadata": {},
   "outputs": [
    {
     "name": "stdout",
     "output_type": "stream",
     "text": [
      "✅\n"
     ]
    }
   ],
   "source": [
    "from bs4 import BeautifulSoup\n",
    "\n",
    "#read the html file\n",
    "with open(\"all_pages.html\", \"r\", encoding=\"utf-8\") as file:\n",
    "    soup = BeautifulSoup(file, \"html.parser\")\n",
    "\n",
    "# extract price\n",
    "prices = [price.get_text(strip=True) for price in soup.find_all(\"div\", class_=\"in-listingCardPrice\")]\n",
    "\n",
    "# extract size\n",
    "sizes = [size.get_text(strip=True) for size in soup.find_all(\"div\", class_=\"in-listingCardFeatureList__item\") if \"m²\" in size.get_text()]\n",
    "\n",
    "# exctract number of rooms\n",
    "rooms = [room.get_text(strip=True) for room in soup.find_all(\"div\", class_=\"in-listingCardFeatureList__item\") if \"locali\" in room.get_text()]\n",
    "\n",
    "# save datas\n",
    "with open(\"data.txt\", \"w\", encoding=\"utf-8\") as f:\n",
    "    for price, size, room in zip(prices, sizes, rooms):\n",
    "        f.write(f\"Price: {price}, Size: {size}, Rooms: {room}\\n\")\n",
    "\n",
    "print(\"✅\")\n"
   ]
  },
  {
   "cell_type": "code",
   "execution_count": null,
   "id": "4a0eb23c-6365-4355-aaf7-67cc24f6f97a",
   "metadata": {},
   "outputs": [],
   "source": []
  },
  {
   "cell_type": "code",
   "execution_count": null,
   "id": "ffad167f-f462-4b42-875b-f86e10587b10",
   "metadata": {},
   "outputs": [],
   "source": []
  },
  {
   "cell_type": "code",
   "execution_count": null,
   "id": "9246b05c-682e-426f-9ab5-89aa6ae8fc92",
   "metadata": {},
   "outputs": [],
   "source": []
  }
 ],
 "metadata": {
  "kernelspec": {
   "display_name": "Python [conda env:base] *",
   "language": "python",
   "name": "conda-base-py"
  },
  "language_info": {
   "codemirror_mode": {
    "name": "ipython",
    "version": 3
   },
   "file_extension": ".py",
   "mimetype": "text/x-python",
   "name": "python",
   "nbconvert_exporter": "python",
   "pygments_lexer": "ipython3",
   "version": "3.12.7"
  }
 },
 "nbformat": 4,
 "nbformat_minor": 5
}
